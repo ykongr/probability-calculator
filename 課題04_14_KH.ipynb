{
  "nbformat": 4,
  "nbformat_minor": 0,
  "metadata": {
    "colab": {
      "provenance": [],
      "include_colab_link": true
    },
    "kernelspec": {
      "name": "python3",
      "display_name": "Python 3"
    },
    "language_info": {
      "name": "python"
    }
  },
  "cells": [
    {
      "cell_type": "markdown",
      "metadata": {
        "id": "view-in-github",
        "colab_type": "text"
      },
      "source": [
        "<a href=\"https://colab.research.google.com/github/ykongr/probability-calculator/blob/main/%E8%AA%B2%E9%A1%8C04_14_KH.ipynb\" target=\"_parent\"><img src=\"https://colab.research.google.com/assets/colab-badge.svg\" alt=\"Open In Colab\"/></a>"
      ]
    },
    {
      "cell_type": "markdown",
      "source": [
        "# **プログラムの名称**\n",
        "# カードゲーム確率計算機\n",
        "\n",
        "## **概要**\n",
        "\n",
        "このプログラムは、カードゲームにおいて、指定した山札の中から引きたいカードの枚数を指定し、好きな枚数引いてその中に引きたいカードが含まれている確率を求めるものです。引きたいカードは二種類まで指定することができ、「山札を好きな枚数引いて一種類のカードを引く確率」、「山札を好きな枚数引いて二種類のカードを引く確率」、「山札を好きな枚数引いて一種類目のカードを引くと追加で何枚か引き、その中に二種類目のカードが含まれている確率」の三種類の確率を求めることができます。\n",
        "\n",
        "## **操作方法**\n",
        "\n",
        "\n",
        "まず初期設定のプログラムを実行し、山札の枚数と引きたいカードの枚数を入力します。その後、実行プログラムのmd drow1 drow2にそれぞれ、使いたいモード、一回目のドロー枚数、二回目のドロー枚数を指定します。引きたいカードが一種類の場合はモードを選択しなくでよく、「二枚を同時に引く確率」モードを選択するときは、二回目のドロー枚数を指定しなくてよいです。これらを指定した後にプログラムを実行すると確率を求めることができます。\n",
        "## **制作者のコメント**\n",
        "\n",
        "アピールポイント（注目してほしい部分、工夫した点、苦労した部分）、反省点、感想、作成秘話、ポエム、川柳など、自由に記述してください。最低でも100文字は記述してください。\n",
        "このプログラムは、二種類のカードを引く時の二通りのプログラムを使用することができるのがポイントです。一種類のカードを引く確率は気軽に求めることが可能ですが、二種類のカードを同時に引く確率などはなかなか求めづらいものになっていて、それを引く枚数も簡単に変えながら確率を求められるのがポイントになっています。苦労したことは、確率の求め方をプログラムとして変換することです。反省点は、プログラムに変数が多くなりすぎたことです。\n",
        "## **作成時間**\n",
        "\n",
        "作成時間：**約700分**\n"
      ],
      "metadata": {
        "id": "EnMqIC7OaqQh"
      }
    },
    {
      "cell_type": "markdown",
      "source": [
        "## **初期設定**"
      ],
      "metadata": {
        "id": "nQEFB2mPsXPK"
      }
    },
    {
      "cell_type": "code",
      "source": [
        "%reset -f\n",
        "wh=int(input(\"山札の枚数を設定してください\"))\n",
        "ans=\"yes\"\n",
        "part_list=[]\n",
        "md=\"0\"\n",
        "\n",
        "while(ans==\"yes\"):\n",
        "  part_list.append(input(\"確率を求めたいカードの枚数を設定してください\"))\n",
        "  if(len(part_list)==2):\n",
        "    break\n",
        "  ans=input(\"2枚目のカードを設定しますか? [yes/no]\")\n",
        "  while(ans!=\"yes\"and ans!=\"no\"):\n",
        "      print(\"yesかnoと入力してください\")\n",
        "      ans=input(\"2枚目のカードを設定しますか? [yes/no]\")\n",
        "print(part_list)"
      ],
      "metadata": {
        "id": "iuv-fXQvatYE",
        "colab": {
          "base_uri": "https://localhost:8080/"
        },
        "outputId": "acd13171-20b3-47e2-9404-1bf535aaeb56"
      },
      "execution_count": null,
      "outputs": [
        {
          "output_type": "stream",
          "name": "stdout",
          "text": [
            "山札の枚数を設定してください４０\n",
            "確率を求めたいカードの枚数を設定してください４\n",
            "2枚目のカードを設定しますか? [yes/no]no\n",
            "['４']\n"
          ]
        }
      ]
    },
    {
      "cell_type": "markdown",
      "source": [
        "##**実行プログラム**"
      ],
      "metadata": {
        "id": "Yqva_6WDsiui"
      }
    },
    {
      "cell_type": "code",
      "source": [
        "import math\n",
        "if(len(part_list)==2):\n",
        "  md = \"二枚を同時に引く確率\" # @param [\"二枚を同時に引く確率\",\"一枚目を引くと追加で何枚かひいて二枚目を引く確率\"]\n",
        "nmlist=[]\n",
        "if md==\"二枚を同時に引く確率\":\n",
        "  md=1\n",
        "elif md==\"一枚目を引くと追加で何枚かひいて二枚目を引く確率\":\n",
        "  md=2\n",
        "drow1=5 #@param {type:\"number\"}\n",
        "drow2=0\n",
        "if md==2:\n",
        "  drow2=2 #@param {type:\"number\"}\n",
        "rd=2\n",
        "count=0\n",
        "for i in range(len(part_list)):\n",
        "  nmlist.append(int(part_list[i]))\n",
        "def prb1(a,b,c):\n",
        "  x=math.comb(a,c)\n",
        "  y=math.comb(a-b,c)\n",
        "  z=y/x\n",
        "  return (1-z)\n",
        "def prb2_md1(a,b,c,d):\n",
        "  x=math.comb(a,b)\n",
        "  y=0\n",
        "  for i in range(1,c+1):\n",
        "    for j in range(1,d+1):\n",
        "      if drow1-i-j>0:\n",
        "        y+=math.comb(c,i)*math.comb(d,j)*math.comb(wh-c-d,drow1-i-j)\n",
        "  z=y/x\n",
        "  return z\n",
        "def prb2_md2(a,b,c,d,e):\n",
        "  f=prb1(a,b,e)\n",
        "  g=prb1(a,c,e)*prb1(a,b,d)\n",
        "  return f+g\n",
        "\n",
        "if drow1+drow2>wh:\n",
        "  print(\"drowの値は山札の枚数以下にしてください\")\n",
        "elif len(nmlist)==1:\n",
        "  print(f\"確率は{prb1(wh,drow1,nmlist[0])*100:.2f}%です\")\n",
        "elif md==1:\n",
        "  fr=prb2_md1(wh,drow1,nmlist[0],nmlist[1])\n",
        "  result=round(fr*100,rd)\n",
        "  while(math.ceil(result)==0 and count!=12):\n",
        "    rd+=1\n",
        "    count+=1\n",
        "    result=round(fr*100,rd)\n",
        "  print(f\"確率は{result}%です\")\n",
        "elif md==2:\n",
        "  fr=prb2_md2(wh,drow1,drow2,nmlist[0],nmlist[1])\n",
        "  result=round(fr*100,rd)\n",
        "  while(math.ceil(result)==0 and count!=12):\n",
        "    rd+=1\n",
        "    count+=1\n",
        "    result=round(fr*100,rd)\n",
        "  print(f\"確率は{result}%です\")"
      ],
      "metadata": {
        "colab": {
          "base_uri": "https://localhost:8080/"
        },
        "id": "YBV6Po5pih5K",
        "outputId": "d0a351e3-bbea-4bc5-fc59-abc3a609bac4"
      },
      "execution_count": null,
      "outputs": [
        {
          "output_type": "stream",
          "name": "stdout",
          "text": [
            "確率は69.40%です\n"
          ]
        }
      ]
    }
  ]
}